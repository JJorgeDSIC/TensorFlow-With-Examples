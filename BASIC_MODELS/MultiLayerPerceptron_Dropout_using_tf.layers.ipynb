{
 "cells": [
  {
   "cell_type": "markdown",
   "metadata": {},
   "source": [
    "# Preparation & Model's definition"
   ]
  },
  {
   "cell_type": "code",
   "execution_count": 1,
   "metadata": {},
   "outputs": [
    {
     "name": "stdout",
     "output_type": "stream",
     "text": [
      "Extracting ../DATASETS/MNIST_TF/train-images-idx3-ubyte.gz\n",
      "Extracting ../DATASETS/MNIST_TF/train-labels-idx1-ubyte.gz\n",
      "Extracting ../DATASETS/MNIST_TF/t10k-images-idx3-ubyte.gz\n",
      "Extracting ../DATASETS/MNIST_TF/t10k-labels-idx1-ubyte.gz\n",
      "# samples 55000\n",
      "Input's dimension 784\n",
      "Label's dimension 10\n"
     ]
    }
   ],
   "source": [
    "#\n",
    "# COMMENTS TO DO\n",
    "#\n",
    "\n",
    "%matplotlib inline\n",
    "import tensorflow as tf\n",
    "import matplotlib.pyplot as plt\n",
    "import matplotlib.gridspec as gridspec\n",
    "import numpy as np\n",
    "import os\n",
    "import time\n",
    "\n",
    "from tensorflow.examples.tutorials.mnist import input_data\n",
    "\n",
    "def plot(samples, w, h, fw, fh, iw=28, ih=28):\n",
    "    fig = plt.figure(figsize=(fw, fh))\n",
    "    gs = gridspec.GridSpec(w, h)\n",
    "    gs.update(wspace=0.05, hspace=0.05)\n",
    "\n",
    "    for i, sample in enumerate(samples):\n",
    "        ax = plt.subplot(gs[i])\n",
    "        plt.axis('off')\n",
    "        ax.set_xticklabels([])\n",
    "        ax.set_yticklabels([])\n",
    "        ax.set_aspect('equal')\n",
    "        plt.imshow(sample.reshape(iw, ih), cmap='Greys_r')\n",
    "\n",
    "    return fig\n",
    "\n",
    "\n",
    "DATA_PATH = \"../DATASETS/\"\n",
    "mnist = input_data.read_data_sets(DATA_PATH + \"MNIST_TF/\", one_hot=True)\n",
    "\n",
    "\n",
    "X_TOTAL = mnist.train.images.shape[0]\n",
    "X_DIM = mnist.train.images.shape[1]\n",
    "Y_DIM = mnist.train.labels.shape[1]\n",
    "print(\"# samples {}\".format(X_TOTAL))\n",
    "print(\"Input's dimension {}\".format(X_DIM))\n",
    "print(\"Label's dimension {}\".format(Y_DIM))\n",
    "\n",
    "#Determining data's input (Setting to None first dimension allows us to use a variable batch size)\n",
    "images_placeholder = tf.placeholder(tf.float32, shape=(None, X_DIM))\n",
    "labels_placeholder = tf.placeholder(tf.int32, shape=(None, Y_DIM))\n",
    "learning_rate_placeholder = tf.placeholder(tf.float32)\n",
    "is_training_placeholder = tf.placeholder(tf.bool)\n",
    "\n",
    "#Defining a model\n",
    "def model_dropout(images, is_training=True):\n",
    "    \n",
    "    h1 = tf.layers.dense(inputs=images, units=1024, activation=tf.nn.relu)\n",
    "    h1_dropout = tf.layers.dropout(inputs=h1, rate=0.5, training=is_training)\n",
    "\n",
    "    h2 = tf.layers.dense(inputs=h1_dropout, units=1024, activation=tf.nn.relu)\n",
    "    h2_dropout = tf.layers.dropout(inputs=h2, rate=0.5, training=is_training)\n",
    "\n",
    "    h3 = tf.layers.dense(inputs=h2_dropout, units=1024, activation=tf.nn.relu)\n",
    "    h3_dropout = tf.layers.dropout(inputs=h3, rate=0.5, training=is_training)\n",
    "\n",
    "    logits = tf.layers.dense(inputs=h3_dropout, units=10, activation=None)\n",
    "\n",
    "    return logits\n",
    "\n",
    "\n",
    "output_logits=model_dropout(images_placeholder, is_training_placeholder)\n",
    "\n",
    "cross_entropy = tf.reduce_mean(\n",
    "    tf.nn.softmax_cross_entropy_with_logits(labels=labels_placeholder, logits=output_logits))\n",
    "\n",
    "train_step = tf.train.GradientDescentOptimizer(learning_rate_placeholder).minimize(cross_entropy)\n",
    "\n",
    "#Obtaining accuracy\n",
    "y_pred = tf.argmax(input=output_logits, axis=1)\n",
    "y_true = tf.argmax(input=labels_placeholder, axis=1)\n",
    "\n",
    "correct_prediction = tf.equal(y_pred, y_true)\n",
    "\n",
    "accuracy = tf.reduce_mean(tf.cast(correct_prediction, tf.float32))"
   ]
  },
  {
   "cell_type": "markdown",
   "metadata": {},
   "source": [
    "# Training Phase"
   ]
  },
  {
   "cell_type": "code",
   "execution_count": 2,
   "metadata": {},
   "outputs": [
    {
     "name": "stdout",
     "output_type": "stream",
     "text": [
      "MB INDEX 0\n",
      "MB INDEX 500\n",
      "E 0 | TRAINING ACC: 0.8596 | TIME 36.16 secs\n",
      "E 0 | VALIDATION ACC: 0.9122 | TIME 1.10 secs\n",
      "MB INDEX 0\n",
      "MB INDEX 500\n"
     ]
    },
    {
     "ename": "KeyboardInterrupt",
     "evalue": "",
     "output_type": "error",
     "traceback": [
      "\u001b[0;31m---------------------------------------------------------------------------\u001b[0m",
      "\u001b[0;31mKeyboardInterrupt\u001b[0m                         Traceback (most recent call last)",
      "\u001b[0;32m<ipython-input-2-0778afb5a33c>\u001b[0m in \u001b[0;36m<module>\u001b[0;34m()\u001b[0m\n\u001b[1;32m     47\u001b[0m                                   \u001b[0mlabels_placeholder\u001b[0m\u001b[0;34m:\u001b[0m \u001b[0mY_minibatch\u001b[0m\u001b[0;34m,\u001b[0m\u001b[0;34m\u001b[0m\u001b[0m\n\u001b[1;32m     48\u001b[0m                                   \u001b[0mlearning_rate_placeholder\u001b[0m\u001b[0;34m:\u001b[0m \u001b[0mLEARNING_RATE\u001b[0m\u001b[0;34m,\u001b[0m\u001b[0;34m\u001b[0m\u001b[0m\n\u001b[0;32m---> 49\u001b[0;31m                                   \u001b[0mis_training_placeholder\u001b[0m\u001b[0;34m:\u001b[0m \u001b[0;32mTrue\u001b[0m\u001b[0;34m\u001b[0m\u001b[0m\n\u001b[0m\u001b[1;32m     50\u001b[0m                               })\n\u001b[1;32m     51\u001b[0m \u001b[0;34m\u001b[0m\u001b[0m\n",
      "\u001b[0;32m/Users/Javier/virtualenvs/tensorflow_r1.0_python3.5/lib/python3.6/site-packages/tensorflow/python/client/session.py\u001b[0m in \u001b[0;36mrun\u001b[0;34m(self, fetches, feed_dict, options, run_metadata)\u001b[0m\n\u001b[1;32m    765\u001b[0m     \u001b[0;32mtry\u001b[0m\u001b[0;34m:\u001b[0m\u001b[0;34m\u001b[0m\u001b[0m\n\u001b[1;32m    766\u001b[0m       result = self._run(None, fetches, feed_dict, options_ptr,\n\u001b[0;32m--> 767\u001b[0;31m                          run_metadata_ptr)\n\u001b[0m\u001b[1;32m    768\u001b[0m       \u001b[0;32mif\u001b[0m \u001b[0mrun_metadata\u001b[0m\u001b[0;34m:\u001b[0m\u001b[0;34m\u001b[0m\u001b[0m\n\u001b[1;32m    769\u001b[0m         \u001b[0mproto_data\u001b[0m \u001b[0;34m=\u001b[0m \u001b[0mtf_session\u001b[0m\u001b[0;34m.\u001b[0m\u001b[0mTF_GetBuffer\u001b[0m\u001b[0;34m(\u001b[0m\u001b[0mrun_metadata_ptr\u001b[0m\u001b[0;34m)\u001b[0m\u001b[0;34m\u001b[0m\u001b[0m\n",
      "\u001b[0;32m/Users/Javier/virtualenvs/tensorflow_r1.0_python3.5/lib/python3.6/site-packages/tensorflow/python/client/session.py\u001b[0m in \u001b[0;36m_run\u001b[0;34m(self, handle, fetches, feed_dict, options, run_metadata)\u001b[0m\n\u001b[1;32m    963\u001b[0m     \u001b[0;32mif\u001b[0m \u001b[0mfinal_fetches\u001b[0m \u001b[0;32mor\u001b[0m \u001b[0mfinal_targets\u001b[0m\u001b[0;34m:\u001b[0m\u001b[0;34m\u001b[0m\u001b[0m\n\u001b[1;32m    964\u001b[0m       results = self._do_run(handle, final_targets, final_fetches,\n\u001b[0;32m--> 965\u001b[0;31m                              feed_dict_string, options, run_metadata)\n\u001b[0m\u001b[1;32m    966\u001b[0m     \u001b[0;32melse\u001b[0m\u001b[0;34m:\u001b[0m\u001b[0;34m\u001b[0m\u001b[0m\n\u001b[1;32m    967\u001b[0m       \u001b[0mresults\u001b[0m \u001b[0;34m=\u001b[0m \u001b[0;34m[\u001b[0m\u001b[0;34m]\u001b[0m\u001b[0;34m\u001b[0m\u001b[0m\n",
      "\u001b[0;32m/Users/Javier/virtualenvs/tensorflow_r1.0_python3.5/lib/python3.6/site-packages/tensorflow/python/client/session.py\u001b[0m in \u001b[0;36m_do_run\u001b[0;34m(self, handle, target_list, fetch_list, feed_dict, options, run_metadata)\u001b[0m\n\u001b[1;32m   1013\u001b[0m     \u001b[0;32mif\u001b[0m \u001b[0mhandle\u001b[0m \u001b[0;32mis\u001b[0m \u001b[0;32mNone\u001b[0m\u001b[0;34m:\u001b[0m\u001b[0;34m\u001b[0m\u001b[0m\n\u001b[1;32m   1014\u001b[0m       return self._do_call(_run_fn, self._session, feed_dict, fetch_list,\n\u001b[0;32m-> 1015\u001b[0;31m                            target_list, options, run_metadata)\n\u001b[0m\u001b[1;32m   1016\u001b[0m     \u001b[0;32melse\u001b[0m\u001b[0;34m:\u001b[0m\u001b[0;34m\u001b[0m\u001b[0m\n\u001b[1;32m   1017\u001b[0m       return self._do_call(_prun_fn, self._session, handle, feed_dict,\n",
      "\u001b[0;32m/Users/Javier/virtualenvs/tensorflow_r1.0_python3.5/lib/python3.6/site-packages/tensorflow/python/client/session.py\u001b[0m in \u001b[0;36m_do_call\u001b[0;34m(self, fn, *args)\u001b[0m\n\u001b[1;32m   1020\u001b[0m   \u001b[0;32mdef\u001b[0m \u001b[0m_do_call\u001b[0m\u001b[0;34m(\u001b[0m\u001b[0mself\u001b[0m\u001b[0;34m,\u001b[0m \u001b[0mfn\u001b[0m\u001b[0;34m,\u001b[0m \u001b[0;34m*\u001b[0m\u001b[0margs\u001b[0m\u001b[0;34m)\u001b[0m\u001b[0;34m:\u001b[0m\u001b[0;34m\u001b[0m\u001b[0m\n\u001b[1;32m   1021\u001b[0m     \u001b[0;32mtry\u001b[0m\u001b[0;34m:\u001b[0m\u001b[0;34m\u001b[0m\u001b[0m\n\u001b[0;32m-> 1022\u001b[0;31m       \u001b[0;32mreturn\u001b[0m \u001b[0mfn\u001b[0m\u001b[0;34m(\u001b[0m\u001b[0;34m*\u001b[0m\u001b[0margs\u001b[0m\u001b[0;34m)\u001b[0m\u001b[0;34m\u001b[0m\u001b[0m\n\u001b[0m\u001b[1;32m   1023\u001b[0m     \u001b[0;32mexcept\u001b[0m \u001b[0merrors\u001b[0m\u001b[0;34m.\u001b[0m\u001b[0mOpError\u001b[0m \u001b[0;32mas\u001b[0m \u001b[0me\u001b[0m\u001b[0;34m:\u001b[0m\u001b[0;34m\u001b[0m\u001b[0m\n\u001b[1;32m   1024\u001b[0m       \u001b[0mmessage\u001b[0m \u001b[0;34m=\u001b[0m \u001b[0mcompat\u001b[0m\u001b[0;34m.\u001b[0m\u001b[0mas_text\u001b[0m\u001b[0;34m(\u001b[0m\u001b[0me\u001b[0m\u001b[0;34m.\u001b[0m\u001b[0mmessage\u001b[0m\u001b[0;34m)\u001b[0m\u001b[0;34m\u001b[0m\u001b[0m\n",
      "\u001b[0;32m/Users/Javier/virtualenvs/tensorflow_r1.0_python3.5/lib/python3.6/site-packages/tensorflow/python/client/session.py\u001b[0m in \u001b[0;36m_run_fn\u001b[0;34m(session, feed_dict, fetch_list, target_list, options, run_metadata)\u001b[0m\n\u001b[1;32m   1002\u001b[0m         return tf_session.TF_Run(session, options,\n\u001b[1;32m   1003\u001b[0m                                  \u001b[0mfeed_dict\u001b[0m\u001b[0;34m,\u001b[0m \u001b[0mfetch_list\u001b[0m\u001b[0;34m,\u001b[0m \u001b[0mtarget_list\u001b[0m\u001b[0;34m,\u001b[0m\u001b[0;34m\u001b[0m\u001b[0m\n\u001b[0;32m-> 1004\u001b[0;31m                                  status, run_metadata)\n\u001b[0m\u001b[1;32m   1005\u001b[0m \u001b[0;34m\u001b[0m\u001b[0m\n\u001b[1;32m   1006\u001b[0m     \u001b[0;32mdef\u001b[0m \u001b[0m_prun_fn\u001b[0m\u001b[0;34m(\u001b[0m\u001b[0msession\u001b[0m\u001b[0;34m,\u001b[0m \u001b[0mhandle\u001b[0m\u001b[0;34m,\u001b[0m \u001b[0mfeed_dict\u001b[0m\u001b[0;34m,\u001b[0m \u001b[0mfetch_list\u001b[0m\u001b[0;34m)\u001b[0m\u001b[0;34m:\u001b[0m\u001b[0;34m\u001b[0m\u001b[0m\n",
      "\u001b[0;31mKeyboardInterrupt\u001b[0m: "
     ]
    }
   ],
   "source": [
    "# Parameters\n",
    "LEARNING_RATE = 0.5\n",
    "BATCH_SIZE = 64\n",
    "EPOCHS = 10\n",
    "TOTAL_BATCHES = int(X_TOTAL/BATCH_SIZE)\n",
    "\n",
    "X_TOTAL_VALID = mnist.validation.images.shape[0]\n",
    "BATCH_SIZE_VAL = 100\n",
    "TOTAL_BATCHES_VALIDATION = int(X_TOTAL_VALID/BATCH_SIZE_VAL)\n",
    "\n",
    "# Initializing the variables\n",
    "init = tf.global_variables_initializer()\n",
    "\n",
    "#Models' managing\n",
    "MODELS_PATH = \"MODELS/\"\n",
    "\n",
    "if not os.path.exists(MODELS_PATH):\n",
    "    os.makedirs(MODELS_PATH)\n",
    "\n",
    "MODEL_NAME = \"MLP_1024_RELU_x3_10_SOFT_DROPOUT.ckpt\"\n",
    "\n",
    "# 'Saver' op to save and restore all the variables\n",
    "MLP_SAVER = tf.train.Saver()\n",
    "\n",
    "#A Session with a \"with\" block. The Session closes automatically at the end of the with block.\n",
    "with tf.Session() as sess:\n",
    "    \n",
    "    sess.run(init)\n",
    "    \n",
    "    training_acc = []\n",
    "    validation_acc = []\n",
    "    \n",
    "    for epoch in range(EPOCHS):\n",
    "        \n",
    "        batch_indexes = np.random.permutation(TOTAL_BATCHES)\n",
    "        \n",
    "        training_total_acc = 0\n",
    "        start_time = time.time()\n",
    "        \n",
    "        for minibatch_number, batch_index in enumerate(batch_indexes):\n",
    "            \n",
    "            \n",
    "            \n",
    "            X_minibatch = mnist.train.images[batch_index*BATCH_SIZE:(batch_index+1)*BATCH_SIZE]\n",
    "            Y_minibatch = mnist.train.labels[batch_index*BATCH_SIZE:(batch_index+1)*BATCH_SIZE]\n",
    "\n",
    "            _, minibatch_acc = sess.run([train_step, accuracy], \n",
    "                              feed_dict={\n",
    "                                  images_placeholder: X_minibatch,\n",
    "                                  labels_placeholder: Y_minibatch,\n",
    "                                  learning_rate_placeholder: LEARNING_RATE,\n",
    "                                  is_training_placeholder: True\n",
    "                              })\n",
    "            \n",
    "            training_total_acc+=minibatch_acc\n",
    "            \n",
    "            if minibatch_number % 500 == 0:\n",
    "                print(\"MB INDEX {}\".format(minibatch_number))\n",
    "        \n",
    "        print(\"E {} | TRAINING ACC: {:.4f} | TIME {:.2f} secs\".format(epoch, (training_total_acc * 1.0)/TOTAL_BATCHES, time.time() - start_time))\n",
    "        \n",
    "        training_acc.append((training_total_acc * 1.0)/TOTAL_BATCHES)\n",
    "        \n",
    "        total_minibatch_acc_val = 0\n",
    "        \n",
    "        start_time_val = time.time()\n",
    "        \n",
    "        for minibatch_number_validation in range(TOTAL_BATCHES_VALIDATION):\n",
    "            \n",
    "            X_minibatch = mnist.validation.images[minibatch_number_validation*BATCH_SIZE_VAL:(minibatch_number_validation+1)*BATCH_SIZE_VAL]\n",
    "            Y_minibatch = mnist.validation.labels[minibatch_number_validation*BATCH_SIZE_VAL:(minibatch_number_validation+1)*BATCH_SIZE_VAL]\n",
    "\n",
    "            minibatch_acc_val = sess.run(accuracy, \n",
    "                              feed_dict={\n",
    "                                  images_placeholder: X_minibatch,\n",
    "                                  labels_placeholder: Y_minibatch,\n",
    "                                  learning_rate_placeholder: LEARNING_RATE,\n",
    "                                  is_training_placeholder: False\n",
    "                              })\n",
    "            \n",
    "            total_minibatch_acc_val+=minibatch_acc_val\n",
    "\n",
    "        print(\"E {} | VALIDATION ACC: {:.4f} | TIME {:.2f} secs\".format(epoch, (total_minibatch_acc_val * 1.0)/TOTAL_BATCHES_VALIDATION, time.time() - start_time_val))\n",
    "        \n",
    "        validation_acc.append((total_minibatch_acc_val * 1.0)/TOTAL_BATCHES_VALIDATION)\n",
    "\n",
    "    print(\"Optimization Finished!\")\n",
    "    #Saving the model\n",
    "    \n",
    "    # Save model weights to disk\n",
    "    save_path = MLP_SAVER.save(sess, MODELS_PATH + MODEL_NAME)\n",
    "    print(\"Model saved in file: {}\".format(save_path))"
   ]
  },
  {
   "cell_type": "code",
   "execution_count": 6,
   "metadata": {},
   "outputs": [
    {
     "data": {
      "image/png": "[encoded data removed]",
      "text/plain": [
       "<matplotlib.figure.Figure at 0x126dca780>"
      ]
     },
     "metadata": {},
     "output_type": "display_data"
    }
   ],
   "source": [
    "x = np.linspace(0,1,num=100)\n",
    "y = np.linspace(0,0.5,num=100)\n",
    "\n",
    "\n",
    "plt.plot(x, label=\"Training\")\n",
    "plt.xlabel(\"Epochs\")\n",
    "plt.plot(y, label=\"Validation\")\n",
    "plt.ylabel(\"Accuracy\")\n",
    "plt.legend()\n",
    "plt.show()"
   ]
  },
  {
   "cell_type": "markdown",
   "metadata": {},
   "source": [
    "# Testing Phase"
   ]
  },
  {
   "cell_type": "code",
   "execution_count": null,
   "metadata": {
    "collapsed": true
   },
   "outputs": [],
   "source": [
    "X_TEST_TOTAL = mnist.test.images.shape[0]\n",
    "TEST_BATCH_SIZE = 100\n",
    "TEST_TOTAL_BATCHES = int(X_TEST_TOTAL/TEST_BATCH_SIZE)\n",
    "\n",
    "with tf.Session() as sess:\n",
    "    \n",
    "    sess.run(init)\n",
    "    \n",
    "    MLP_SAVER.restore(sess, save_path)\n",
    "    print(\"Model restored in file: {}\".format(save_path))\n",
    "    test_total_acc = 0\n",
    "    start_time = time.time()\n",
    "\n",
    "    for test_minibatch_number in range(TEST_TOTAL_BATCHES):\n",
    "\n",
    "        X_minibatch = mnist.test.images[test_minibatch_number*TEST_BATCH_SIZE:(test_minibatch_number+1)*TEST_BATCH_SIZE]\n",
    "        Y_minibatch = mnist.test.labels[test_minibatch_number*TEST_BATCH_SIZE:(test_minibatch_number+1)*TEST_BATCH_SIZE]\n",
    "\n",
    "        minibatch_acc = sess.run(accuracy, \n",
    "                          feed_dict={\n",
    "                              images_placeholder: X_minibatch,\n",
    "                              labels_placeholder: Y_minibatch,\n",
    "                              is_training_placeholder: False\n",
    "                          })\n",
    "\n",
    "        test_total_acc+=minibatch_acc\n",
    "        \n",
    "        if test_minibatch_number % 10 == 0:\n",
    "            print(\"MB INDEX {}\".format(test_minibatch_number))\n",
    "\n",
    "    print(\"TEST ACC: {:.4f} | TIME {:.2f} secs\".format((test_total_acc * 1.0)/TEST_TOTAL_BATCHES, time.time() - start_time))"
   ]
  },
  {
   "cell_type": "code",
   "execution_count": null,
   "metadata": {
    "collapsed": true
   },
   "outputs": [],
   "source": []
  }
 ],
 "metadata": {
  "kernelspec": {
   "display_name": "Python 3",
   "language": "python",
   "name": "python3"
  },
  "language_info": {
   "codemirror_mode": {
    "name": "ipython",
    "version": 3
   },
   "file_extension": ".py",
   "mimetype": "text/x-python",
   "name": "python",
   "nbconvert_exporter": "python",
   "pygments_lexer": "ipython3",
   "version": "3.6.1"
  }
 },
 "nbformat": 4,
 "nbformat_minor": 2
}
